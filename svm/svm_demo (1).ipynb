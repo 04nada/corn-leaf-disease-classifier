{
  "cells": [
    {
      "cell_type": "markdown",
      "metadata": {
        "id": "GpAciyDWUJY2"
      },
      "source": [
        "# Mount the Drive"
      ]
    },
    {
      "cell_type": "markdown",
      "metadata": {
        "id": "lvMSRmHBU9MY"
      },
      "source": [
        "# import libraries and dependencies"
      ]
    },
    {
      "cell_type": "code",
      "execution_count": null,
      "metadata": {
        "id": "SFvDZ2QYU9lD"
      },
      "outputs": [
        {
          "ename": "",
          "evalue": "",
          "output_type": "error",
          "traceback": [
            "\u001b[1;31mRunning cells with 'Python 3.12.9' requires the ipykernel package.\n",
            "\u001b[1;31m<a href='command:jupyter.createPythonEnvAndSelectController'>Create a Python Environment</a> with the required packages.\n",
            "\u001b[1;31mOr install 'ipykernel' using the command: '/usr/bin/python3.12 -m pip install ipykernel -U --user --force-reinstall'"
          ]
        }
      ],
      "source": [
        "%pip install scikit-image scikit-learn matplotlib tqdm seaborn imbalanced-learn numpy\n",
        "\n",
        "import numpy as np\n",
        "from skimage.io import imread\n",
        "from skimage.transform import resize\n",
        "from skimage.color import rgb2hsv, hsv2rgb\n",
        "from skimage.feature import hog\n",
        "import joblib\n",
        "import os\n",
        "from tqdm import tqdm\n",
        "\n",
        "# Settings\n",
        "DATA_PATH = '../data/Blight' # place data here\n",
        "IMAGE_SIZE = (128, 128)    # resize images\n",
        "\n",
        "model = joblib.load('../server/svm_model.pkl')\n",
        "le = joblib.load('../server/label_encoder.pkl')\n",
        "\n"
      ]
    },
    {
      "cell_type": "markdown",
      "metadata": {
        "id": "Mc3raGcAcCRy"
      },
      "source": [
        "# Preprocess image before feeding"
      ]
    },
    {
      "cell_type": "code",
      "execution_count": null,
      "metadata": {
        "id": "KCQojugQcCgs"
      },
      "outputs": [],
      "source": [
        "def preprocess_image(image_path, saturate=True, saturation_factor=2.0):\n",
        "    img = imread(image_path)\n",
        "    img = resize(img, IMAGE_SIZE, anti_aliasing=True)\n",
        "\n",
        "    # convert B/W to RGB\n",
        "    if img.ndim == 2:\n",
        "        img = np.stack([img] * 3, axis=-1)\n",
        "\n",
        "    # convert RGBA to RGB\n",
        "    elif img.ndim == 3 and img.shape[-1] == 4:\n",
        "        img = img[..., :3]\n",
        "\n",
        "\n",
        "    if saturate:\n",
        "        img_hsv = rgb2hsv(img)\n",
        "        img_hsv[:, :, 1] = np.clip(img_hsv[:, :, 1] * saturation_factor, 0, 1)\n",
        "        img = hsv2rgb(img_hsv)\n",
        "\n",
        "    return img\n",
        "\n",
        "def extract_hog_features(img):\n",
        "    hog_feats = []\n",
        "    for c in range(3):  # RGB\n",
        "        feat = hog(img[..., c], orientations=9, pixels_per_cell=(8, 8),\n",
        "                   cells_per_block=(2, 2), block_norm='L2-Hys')\n",
        "        hog_feats.append(feat)\n",
        "    return np.concatenate(hog_feats)\n",
        "\n",
        "def predict_image(image_path):\n",
        "    img = preprocess_image(image_path)\n",
        "    features = extract_hog_features(img).reshape(1, -1)\n",
        "    pred = model.predict(features)\n",
        "    label = le.inverse_transform(pred)\n",
        "    return label[0]\n",
        "\n",
        "# Example usage\n",
        "image_files = sorted([f for f in os.listdir(DATA_PATH)\n",
        "               if os.path.isfile(os.path.join(DATA_PATH, f))])\n",
        "\n",
        "\n",
        "print(predict_image('b1.jpeg'))\n",
        "\n"
      ]
    }
  ],
  "metadata": {
    "colab": {
      "provenance": []
    },
    "kernelspec": {
      "display_name": "Python 3",
      "name": "python3"
    },
    "language_info": {
      "name": "python",
      "version": "3.12.9"
    }
  },
  "nbformat": 4,
  "nbformat_minor": 0
}
