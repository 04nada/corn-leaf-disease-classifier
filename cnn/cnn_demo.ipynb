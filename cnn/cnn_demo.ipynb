{
 "cells": [
  {
   "cell_type": "code",
   "execution_count": 59,
   "id": "6ec36a62",
   "metadata": {},
   "outputs": [
    {
     "name": "stdout",
     "output_type": "stream",
     "text": [
      "Using virtualenv: C:\\Users\\04n\\AppData\\Local\\pypoetry\\Cache\\virtualenvs\\corn-leaf-disease-classifier-davY0eoL-py3.12\n",
      "\"C:\\Users\\04n\\AppData\\Local\\pypoetry\\Cache\\virtualenvs\\corn-leaf-disease-classifier-davY0eoL-py3.12\\Scripts\\activate.bat\"\n"
     ]
    }
   ],
   "source": [
    "!poetry env use 3.12\n",
    "!poetry env activate"
   ]
  },
  {
   "cell_type": "code",
   "execution_count": 60,
   "id": "b80d2785",
   "metadata": {},
   "outputs": [
    {
     "name": "stdout",
     "output_type": "stream",
     "text": [
      "Installing dependencies from lock file\n",
      "\n",
      "No dependencies to install or update\n",
      "Resolving dependencies...\n"
     ]
    }
   ],
   "source": [
    "!poetry install\n",
    "!poetry lock\n",
    "#!poetry run pip freeze\n",
    "    # ipykernel\n",
    "    # keras\n",
    "    # matplotlib\n",
    "    # numpy\n",
    "    # ruff\n",
    "    # seaborn\n",
    "    # tensorflow"
   ]
  },
  {
   "cell_type": "markdown",
   "id": "e94e32c5",
   "metadata": {},
   "source": [
    "# Setup Imports"
   ]
  },
  {
   "cell_type": "code",
   "execution_count": 61,
   "id": "d4142c70",
   "metadata": {},
   "outputs": [],
   "source": [
    "import keras\n",
    "import numpy as np # linear algebra\n",
    "import tensorflow as tf"
   ]
  },
  {
   "cell_type": "code",
   "execution_count": 62,
   "id": "ccb69e86",
   "metadata": {},
   "outputs": [],
   "source": [
    "from numpy._typing._array_like import NDArray\n",
    "from pathlib import Path\n",
    "from PIL import Image, ImageEnhance\n",
    "from typing import Any\n",
    "\n",
    "IMAGE_SIZE: tuple[int, int] = (64, 64)\n",
    "IMAGE_SUFFIXES: set[str] = {'.jpeg', '.jpg', '.png'}"
   ]
  },
  {
   "cell_type": "markdown",
   "id": "ea8e9237",
   "metadata": {},
   "source": [
    "# Load Datasets"
   ]
  },
  {
   "cell_type": "code",
   "execution_count": 63,
   "id": "ec4c6219",
   "metadata": {},
   "outputs": [],
   "source": [
    "ROOT_PATH: Path = Path.cwd().parent\n",
    "TRAIN_PATH: Path = ROOT_PATH / 'data' / 'train'\n",
    "TEST_PATH: Path = ROOT_PATH / 'data' / 'test'"
   ]
  },
  {
   "cell_type": "code",
   "execution_count": 64,
   "id": "dcc00d67",
   "metadata": {},
   "outputs": [],
   "source": [
    "def load_image_from_path(image_path: Path) -> list[int]:\n",
    "    image: Image.Image = Image.open(image_path).convert('RGB').resize((64,64))\n",
    "    image = ImageEnhance.Color(image).enhance(2.0)\n",
    "\n",
    "    image_flat: NDArray[Any] = np.asarray(image, dtype=\"int64\").flatten()\n",
    "\n",
    "    ret: list[int] = [int(i) for i in image_flat]\n",
    "    return ret"
   ]
  },
  {
   "cell_type": "code",
   "execution_count": 65,
   "id": "b215b7e7",
   "metadata": {},
   "outputs": [],
   "source": [
    "def get_dataset_classes(dataset_path: Path) -> list[str]:\n",
    "    return [d.name for d in dataset_path.iterdir() if d.is_dir()]"
   ]
  },
  {
   "cell_type": "markdown",
   "id": "c54a3454",
   "metadata": {},
   "source": [
    "# Load Model from File"
   ]
  },
  {
   "cell_type": "code",
   "execution_count": 66,
   "id": "91a1aed5",
   "metadata": {},
   "outputs": [],
   "source": [
    "model_path: Path = Path.cwd() / 'final' / 'model.keras'"
   ]
  },
  {
   "cell_type": "code",
   "execution_count": 67,
   "id": "901ea745",
   "metadata": {},
   "outputs": [],
   "source": [
    "model = keras.saving.load_model(model_path)"
   ]
  },
  {
   "cell_type": "markdown",
   "id": "5c7e3d90",
   "metadata": {},
   "source": [
    "# Predict Image"
   ]
  },
  {
   "cell_type": "code",
   "execution_count": 68,
   "id": "8ca2da17",
   "metadata": {},
   "outputs": [],
   "source": [
    "def predict_image(image_path: Path) -> str:\n",
    "    image_raw: list[int] = load_image_from_path(image_path)\n",
    "    image: NDArray[Any] = np.array(image_raw).reshape(1, IMAGE_SIZE[0], IMAGE_SIZE[1], 3)\n",
    "\n",
    "    pred = model.predict(image)\n",
    "    pred_class = np.argmax(pred, axis = 1) \n",
    "    prediction: list[str] = [get_dataset_classes(TRAIN_PATH)[i] for i in pred_class]\n",
    "\n",
    "    return prediction[0]"
   ]
  },
  {
   "cell_type": "code",
   "execution_count": 69,
   "id": "7e2e4106",
   "metadata": {},
   "outputs": [
    {
     "name": "stdout",
     "output_type": "stream",
     "text": [
      "\u001b[1m1/1\u001b[0m \u001b[32m━━━━━━━━━━━━━━━━━━━━\u001b[0m\u001b[37m\u001b[0m \u001b[1m0s\u001b[0m 66ms/step\n"
     ]
    },
    {
     "data": {
      "text/plain": [
       "'Gray_Leaf_Spot'"
      ]
     },
     "execution_count": 69,
     "metadata": {},
     "output_type": "execute_result"
    }
   ],
   "source": [
    "predict_image(TRAIN_PATH / 'Blight' / 'b1.jpeg')"
   ]
  }
 ],
 "metadata": {
  "kernelspec": {
   "display_name": "corn-leaf-disease-classifier-davY0eoL-py3.12",
   "language": "python",
   "name": "python3"
  },
  "language_info": {
   "codemirror_mode": {
    "name": "ipython",
    "version": 3
   },
   "file_extension": ".py",
   "mimetype": "text/x-python",
   "name": "python",
   "nbconvert_exporter": "python",
   "pygments_lexer": "ipython3",
   "version": "3.12.10"
  }
 },
 "nbformat": 4,
 "nbformat_minor": 5
}
