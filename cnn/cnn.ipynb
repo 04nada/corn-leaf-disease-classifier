{
 "cells": [
  {
   "cell_type": "code",
   "execution_count": 117,
   "id": "2e7e3c97",
   "metadata": {},
   "outputs": [
    {
     "name": "stdout",
     "output_type": "stream",
     "text": [
      "Using virtualenv: C:\\Users\\04n\\AppData\\Local\\pypoetry\\Cache\\virtualenvs\\corn-leaf-disease-classifier-davY0eoL-py3.12\n",
      "\"C:\\Users\\04n\\AppData\\Local\\pypoetry\\Cache\\virtualenvs\\corn-leaf-disease-classifier-davY0eoL-py3.12\\Scripts\\activate.bat\"\n"
     ]
    }
   ],
   "source": [
    "!poetry env use 3.12\n",
    "!poetry env activate"
   ]
  },
  {
   "cell_type": "code",
   "execution_count": 118,
   "id": "5f2b4dc3",
   "metadata": {},
   "outputs": [
    {
     "name": "stdout",
     "output_type": "stream",
     "text": [
      "Installing dependencies from lock file\n",
      "\n",
      "No dependencies to install or update\n",
      "Resolving dependencies...\n"
     ]
    }
   ],
   "source": [
    "!poetry install\n",
    "!poetry lock\n",
    "#!poetry run pip freeze\n",
    "    # ipykernel\n",
    "    # keras\n",
    "    # matplotlib\n",
    "    # numpy\n",
    "    # ruff\n",
    "    # seaborn\n",
    "    # tensorflow"
   ]
  },
  {
   "cell_type": "markdown",
   "id": "46d7568f",
   "metadata": {},
   "source": [
    "# Setup Imports"
   ]
  },
  {
   "cell_type": "code",
   "execution_count": 119,
   "id": "a08194da",
   "metadata": {},
   "outputs": [],
   "source": [
    "import matplotlib as mpl\n",
    "import matplotlib.figure\n",
    "import matplotlib.pyplot as plt\n",
    "import numpy as np # linear algebra\n",
    "import pandas as pd # data processing, CSV file I/O (e.g. pd.read_csv)\n",
    "import seaborn as sns\n",
    "import tensorflow as tf\n",
    "\n",
    "# import warnings\n",
    "import warnings\n",
    "# filter warnings\n",
    "warnings.filterwarnings('ignore')"
   ]
  },
  {
   "cell_type": "code",
   "execution_count": 120,
   "id": "af9aa9a0",
   "metadata": {},
   "outputs": [],
   "source": [
    "from numpy._typing._array_like import NDArray\n",
    "from pathlib import Path\n",
    "from PIL import Image\n",
    "from typing import Any\n",
    "\n",
    "IMAGE_SIZE: tuple[int, int] = (32, 32)\n",
    "IMAGE_SUFFIXES: set[str] = {'.jpeg', '.jpg', '.png'}\n",
    "SEED = 727"
   ]
  },
  {
   "cell_type": "markdown",
   "id": "668431c5",
   "metadata": {},
   "source": [
    "# Load Datasets"
   ]
  },
  {
   "cell_type": "code",
   "execution_count": 121,
   "id": "9fd8fdc4",
   "metadata": {},
   "outputs": [],
   "source": [
    "root_path: Path = Path.cwd().parent\n",
    "train_path = root_path / 'data' / 'train'\n",
    "test_path = root_path / 'data' / 'test'"
   ]
  },
  {
   "cell_type": "code",
   "execution_count": 122,
   "id": "d029872f",
   "metadata": {},
   "outputs": [],
   "source": [
    "def load_image_from_path(image_path: Path) -> list[int]:\n",
    "    image: Image.Image = Image.open(image_path).resize(IMAGE_SIZE)\n",
    "    image_flat: NDArray[Any] = np.asarray(image, dtype=\"int\").flatten()\n",
    "    ret_int: list[int] = [int(i) for i in image_flat]\n",
    "    return ret_int"
   ]
  },
  {
   "cell_type": "code",
   "execution_count": 145,
   "id": "a4e4a5ed",
   "metadata": {},
   "outputs": [
    {
     "name": "stdout",
     "output_type": "stream",
     "text": [
      "3072\n"
     ]
    }
   ],
   "source": [
    "sample_image = load_image_from_path(train_path / 'Blight' / 'b1.jpeg')\n",
    "print(len(sample_image))"
   ]
  },
  {
   "cell_type": "code",
   "execution_count": 147,
   "id": "072492a1",
   "metadata": {},
   "outputs": [
    {
     "name": "stdout",
     "output_type": "stream",
     "text": [
      "3073\n"
     ]
    }
   ],
   "source": [
    "columns: list[str] = ['label']\n",
    "for i in range(IMAGE_SIZE[0]):\n",
    "    for j in range(IMAGE_SIZE[1]):\n",
    "        for k in ['r', 'g', 'b']:\n",
    "            columns.append(f'pixel{i*IMAGE_SIZE[0] + j}_{k}')\n",
    "print(len(columns))"
   ]
  },
  {
   "cell_type": "code",
   "execution_count": 166,
   "id": "3e51308c",
   "metadata": {},
   "outputs": [],
   "source": [
    "def load_dataset_from_directory(dataset_path: Path) -> pd.DataFrame:\n",
    "    dataset_class_paths: list[Path] = [d for d in dataset_path.iterdir() if d.is_dir()]\n",
    "    dataset_classes: list[str] = [d.name for d in dataset_class_paths]\n",
    "\n",
    "    labels: list[str] = ['label']\n",
    "    for i in range(IMAGE_SIZE[0]):\n",
    "        for j in range(IMAGE_SIZE[1]):\n",
    "            for k in ['r', 'g', 'b']:\n",
    "                labels.append(f'pixel{i*IMAGE_SIZE[0] + j}_{k}')\n",
    "\n",
    "    data: dict[str, list[int]] = {}\n",
    "    for label in labels:\n",
    "        data[label] = []\n",
    "    for d_c, dataset_class in enumerate(dataset_classes):\n",
    "        for image_path in (dataset_path / dataset_class).iterdir():\n",
    "            if not image_path.is_file() or image_path.suffix not in IMAGE_SUFFIXES:\n",
    "                continue\n",
    "\n",
    "            row: list[int] = []\n",
    "            row.append(d_c)\n",
    "            row.extend(load_image_from_path(image_path))\n",
    "            \n",
    "            if len(labels) != len(row):\n",
    "                print(image_path)\n",
    "                print(f'lengths: {len(labels)} {len(row)}')\n",
    "\n",
    "            for i in range(len(labels)):\n",
    "                data[labels[i]].append(row[i])\n",
    "\n",
    "    ret: pd.DataFrame = pd.DataFrame(\n",
    "        data=data,\n",
    "        )\n",
    "\n",
    "    return ret"
   ]
  },
  {
   "cell_type": "code",
   "execution_count": 167,
   "id": "14bc809d",
   "metadata": {},
   "outputs": [
    {
     "name": "stdout",
     "output_type": "stream",
     "text": [
      "d:\\Users\\04n\\Desktop\\LLLLL\\03_College\\Year 3 Sem 2\\CS 180\\cs180-root\\Project\\corn-leaf-disease-classifier\\data\\train\\Common_Rust\\c247.jpeg\n",
      "lengths: 3073 4097\n",
      "d:\\Users\\04n\\Desktop\\LLLLL\\03_College\\Year 3 Sem 2\\CS 180\\cs180-root\\Project\\corn-leaf-disease-classifier\\data\\train\\Common_Rust\\c261.jpeg\n",
      "lengths: 3073 4097\n",
      "d:\\Users\\04n\\Desktop\\LLLLL\\03_College\\Year 3 Sem 2\\CS 180\\cs180-root\\Project\\corn-leaf-disease-classifier\\data\\train\\Gray_Leaf_Spot\\g0.jpeg\n",
      "lengths: 3073 4097\n",
      "d:\\Users\\04n\\Desktop\\LLLLL\\03_College\\Year 3 Sem 2\\CS 180\\cs180-root\\Project\\corn-leaf-disease-classifier\\data\\train\\Gray_Leaf_Spot\\g201.jpeg\n",
      "lengths: 3073 4097\n",
      "(3350, 3073)\n"
     ]
    },
    {
     "data": {
      "text/html": [
       "<div>\n",
       "<style scoped>\n",
       "    .dataframe tbody tr th:only-of-type {\n",
       "        vertical-align: middle;\n",
       "    }\n",
       "\n",
       "    .dataframe tbody tr th {\n",
       "        vertical-align: top;\n",
       "    }\n",
       "\n",
       "    .dataframe thead th {\n",
       "        text-align: right;\n",
       "    }\n",
       "</style>\n",
       "<table border=\"1\" class=\"dataframe\">\n",
       "  <thead>\n",
       "    <tr style=\"text-align: right;\">\n",
       "      <th></th>\n",
       "      <th>label</th>\n",
       "      <th>pixel0_r</th>\n",
       "      <th>pixel0_g</th>\n",
       "      <th>pixel0_b</th>\n",
       "      <th>pixel1_r</th>\n",
       "      <th>pixel1_g</th>\n",
       "      <th>pixel1_b</th>\n",
       "      <th>pixel2_r</th>\n",
       "      <th>pixel2_g</th>\n",
       "      <th>pixel2_b</th>\n",
       "      <th>...</th>\n",
       "      <th>pixel1020_b</th>\n",
       "      <th>pixel1021_r</th>\n",
       "      <th>pixel1021_g</th>\n",
       "      <th>pixel1021_b</th>\n",
       "      <th>pixel1022_r</th>\n",
       "      <th>pixel1022_g</th>\n",
       "      <th>pixel1022_b</th>\n",
       "      <th>pixel1023_r</th>\n",
       "      <th>pixel1023_g</th>\n",
       "      <th>pixel1023_b</th>\n",
       "    </tr>\n",
       "  </thead>\n",
       "  <tbody>\n",
       "    <tr>\n",
       "      <th>0</th>\n",
       "      <td>0</td>\n",
       "      <td>149</td>\n",
       "      <td>157</td>\n",
       "      <td>175</td>\n",
       "      <td>147</td>\n",
       "      <td>155</td>\n",
       "      <td>174</td>\n",
       "      <td>153</td>\n",
       "      <td>161</td>\n",
       "      <td>178</td>\n",
       "      <td>...</td>\n",
       "      <td>169</td>\n",
       "      <td>234</td>\n",
       "      <td>205</td>\n",
       "      <td>167</td>\n",
       "      <td>232</td>\n",
       "      <td>201</td>\n",
       "      <td>163</td>\n",
       "      <td>229</td>\n",
       "      <td>196</td>\n",
       "      <td>157</td>\n",
       "    </tr>\n",
       "    <tr>\n",
       "      <th>1</th>\n",
       "      <td>0</td>\n",
       "      <td>116</td>\n",
       "      <td>107</td>\n",
       "      <td>128</td>\n",
       "      <td>118</td>\n",
       "      <td>109</td>\n",
       "      <td>130</td>\n",
       "      <td>117</td>\n",
       "      <td>109</td>\n",
       "      <td>130</td>\n",
       "      <td>...</td>\n",
       "      <td>175</td>\n",
       "      <td>189</td>\n",
       "      <td>177</td>\n",
       "      <td>184</td>\n",
       "      <td>190</td>\n",
       "      <td>179</td>\n",
       "      <td>185</td>\n",
       "      <td>190</td>\n",
       "      <td>179</td>\n",
       "      <td>185</td>\n",
       "    </tr>\n",
       "    <tr>\n",
       "      <th>2</th>\n",
       "      <td>0</td>\n",
       "      <td>128</td>\n",
       "      <td>150</td>\n",
       "      <td>158</td>\n",
       "      <td>111</td>\n",
       "      <td>121</td>\n",
       "      <td>129</td>\n",
       "      <td>138</td>\n",
       "      <td>115</td>\n",
       "      <td>107</td>\n",
       "      <td>...</td>\n",
       "      <td>110</td>\n",
       "      <td>92</td>\n",
       "      <td>82</td>\n",
       "      <td>81</td>\n",
       "      <td>94</td>\n",
       "      <td>81</td>\n",
       "      <td>79</td>\n",
       "      <td>87</td>\n",
       "      <td>74</td>\n",
       "      <td>73</td>\n",
       "    </tr>\n",
       "    <tr>\n",
       "      <th>3</th>\n",
       "      <td>0</td>\n",
       "      <td>109</td>\n",
       "      <td>127</td>\n",
       "      <td>24</td>\n",
       "      <td>88</td>\n",
       "      <td>96</td>\n",
       "      <td>25</td>\n",
       "      <td>70</td>\n",
       "      <td>78</td>\n",
       "      <td>26</td>\n",
       "      <td>...</td>\n",
       "      <td>16</td>\n",
       "      <td>54</td>\n",
       "      <td>85</td>\n",
       "      <td>14</td>\n",
       "      <td>50</td>\n",
       "      <td>80</td>\n",
       "      <td>14</td>\n",
       "      <td>49</td>\n",
       "      <td>78</td>\n",
       "      <td>14</td>\n",
       "    </tr>\n",
       "    <tr>\n",
       "      <th>4</th>\n",
       "      <td>0</td>\n",
       "      <td>77</td>\n",
       "      <td>87</td>\n",
       "      <td>82</td>\n",
       "      <td>213</td>\n",
       "      <td>213</td>\n",
       "      <td>167</td>\n",
       "      <td>226</td>\n",
       "      <td>225</td>\n",
       "      <td>173</td>\n",
       "      <td>...</td>\n",
       "      <td>13</td>\n",
       "      <td>113</td>\n",
       "      <td>67</td>\n",
       "      <td>64</td>\n",
       "      <td>187</td>\n",
       "      <td>113</td>\n",
       "      <td>97</td>\n",
       "      <td>219</td>\n",
       "      <td>136</td>\n",
       "      <td>106</td>\n",
       "    </tr>\n",
       "  </tbody>\n",
       "</table>\n",
       "<p>5 rows × 3073 columns</p>\n",
       "</div>"
      ],
      "text/plain": [
       "   label  pixel0_r  pixel0_g  pixel0_b  pixel1_r  pixel1_g  pixel1_b  \\\n",
       "0      0       149       157       175       147       155       174   \n",
       "1      0       116       107       128       118       109       130   \n",
       "2      0       128       150       158       111       121       129   \n",
       "3      0       109       127        24        88        96        25   \n",
       "4      0        77        87        82       213       213       167   \n",
       "\n",
       "   pixel2_r  pixel2_g  pixel2_b  ...  pixel1020_b  pixel1021_r  pixel1021_g  \\\n",
       "0       153       161       178  ...          169          234          205   \n",
       "1       117       109       130  ...          175          189          177   \n",
       "2       138       115       107  ...          110           92           82   \n",
       "3        70        78        26  ...           16           54           85   \n",
       "4       226       225       173  ...           13          113           67   \n",
       "\n",
       "   pixel1021_b  pixel1022_r  pixel1022_g  pixel1022_b  pixel1023_r  \\\n",
       "0          167          232          201          163          229   \n",
       "1          184          190          179          185          190   \n",
       "2           81           94           81           79           87   \n",
       "3           14           50           80           14           49   \n",
       "4           64          187          113           97          219   \n",
       "\n",
       "   pixel1023_g  pixel1023_b  \n",
       "0          196          157  \n",
       "1          179          185  \n",
       "2           74           73  \n",
       "3           78           14  \n",
       "4          136          106  \n",
       "\n",
       "[5 rows x 3073 columns]"
      ]
     },
     "execution_count": 167,
     "metadata": {},
     "output_type": "execute_result"
    }
   ],
   "source": [
    "train: pd.DataFrame = load_dataset_from_directory(train_path)\n",
    "print(train.shape)\n",
    "train.head()"
   ]
  },
  {
   "cell_type": "code",
   "execution_count": 69,
   "id": "1dc46e85",
   "metadata": {},
   "outputs": [
    {
     "data": {
      "text/plain": [
       "'\\ntest: pd.DataFrame = load_dataset_from_directory(test_path)\\nprint(test.shape)\\n#test.head()\\n'"
      ]
     },
     "execution_count": 69,
     "metadata": {},
     "output_type": "execute_result"
    }
   ],
   "source": [
    "'''\n",
    "test: pd.DataFrame = load_dataset_from_directory(test_path)\n",
    "print(test.shape)\n",
    "#test.head()\n",
    "'''"
   ]
  },
  {
   "cell_type": "code",
   "execution_count": 239,
   "id": "4cfd03ea",
   "metadata": {},
   "outputs": [
    {
     "data": {
      "text/plain": [
       "label\n",
       "1    1045\n",
       "3     929\n",
       "0     917\n",
       "2     459\n",
       "Name: count, dtype: int64"
      ]
     },
     "execution_count": 239,
     "metadata": {},
     "output_type": "execute_result"
    }
   ],
   "source": [
    "Y_train: pd.Series = train['label']\n",
    "X_train: pd.DataFrame = train.drop(\n",
    "    labels = ['label'],\n",
    "    axis = 1\n",
    "    ) \n",
    "Y_train.value_counts()"
   ]
  },
  {
   "cell_type": "markdown",
   "id": "a42ac715",
   "metadata": {},
   "source": [
    "# Normalization, Reshape and Label Encoding "
   ]
  },
  {
   "cell_type": "code",
   "execution_count": 240,
   "id": "ce556b70",
   "metadata": {},
   "outputs": [],
   "source": [
    "NUM_CLASSES = 4"
   ]
  },
  {
   "cell_type": "code",
   "execution_count": 241,
   "id": "e3905257",
   "metadata": {},
   "outputs": [
    {
     "name": "stdout",
     "output_type": "stream",
     "text": [
      "X_train shape:  (3350, 3072)\n"
     ]
    }
   ],
   "source": [
    "# normalize train data\n",
    "X_train /= 255.0\n",
    "print(\"X_train shape: \", X_train.shape)"
   ]
  },
  {
   "cell_type": "code",
   "execution_count": 242,
   "id": "865a5409",
   "metadata": {},
   "outputs": [
    {
     "data": {
      "text/plain": [
       "'\\ntest /= 255.0\\nprint(\"test shape: \", test.shape)\\n'"
      ]
     },
     "execution_count": 242,
     "metadata": {},
     "output_type": "execute_result"
    }
   ],
   "source": [
    "'''\n",
    "test /= 255.0\n",
    "print(\"test shape: \", test.shape)\n",
    "'''"
   ]
  },
  {
   "cell_type": "code",
   "execution_count": 243,
   "id": "e163ed14",
   "metadata": {},
   "outputs": [
    {
     "name": "stdout",
     "output_type": "stream",
     "text": [
      "X_train shape:  (3350, 32, 32, 3)\n"
     ]
    }
   ],
   "source": [
    "# reshape, supports shape inference using `-1` as dimension\n",
    "X_train = X_train.values.reshape(-1, IMAGE_SIZE[0], IMAGE_SIZE[1], 3)\n",
    "print(\"X_train shape: \", X_train.shape)"
   ]
  },
  {
   "cell_type": "code",
   "execution_count": 244,
   "id": "abd508a1",
   "metadata": {},
   "outputs": [
    {
     "data": {
      "text/plain": [
       "'\\ntest = test.values.reshape(-1, IMAGE_SIZE[0], IMAGE_SIZE[1], 1)\\nprint(\"test shape: \", test.shape)\\n'"
      ]
     },
     "execution_count": 244,
     "metadata": {},
     "output_type": "execute_result"
    }
   ],
   "source": [
    "'''\n",
    "test = test.values.reshape(-1, IMAGE_SIZE[0], IMAGE_SIZE[1], 1)\n",
    "print(\"test shape: \", test.shape)\n",
    "'''"
   ]
  },
  {
   "cell_type": "code",
   "execution_count": 245,
   "id": "4e2559c7",
   "metadata": {},
   "outputs": [],
   "source": [
    "# Label Encoding \n",
    "from keras.utils import to_categorical # convert to one-hot-encoding\n",
    "\n",
    "Y_train: NDArray[np.float64] = to_categorical(Y_train, num_classes=NUM_CLASSES)"
   ]
  },
  {
   "cell_type": "markdown",
   "id": "2b9ff1c4",
   "metadata": {},
   "source": [
    "# Train Test Split"
   ]
  },
  {
   "cell_type": "code",
   "execution_count": 246,
   "id": "4c080f1e",
   "metadata": {},
   "outputs": [],
   "source": [
    "from sklearn.model_selection import train_test_split\n",
    "\n",
    "TEST_SIZE = 0.1"
   ]
  },
  {
   "cell_type": "code",
   "execution_count": 247,
   "id": "bb705044",
   "metadata": {},
   "outputs": [
    {
     "name": "stdout",
     "output_type": "stream",
     "text": [
      "x_train shape (3015, 32, 32, 3)\n",
      "x_test shape (335, 32, 32, 3)\n",
      "y_train shape (3015, 4)\n",
      "y_test shape (335, 4)\n"
     ]
    }
   ],
   "source": [
    "# Split the train and the validation set for the fitting\n",
    "X_train, X_val, Y_train, Y_val = train_test_split(X_train, Y_train, test_size=TEST_SIZE, random_state=SEED)\n",
    "print(\"x_train shape\", X_train.shape)\n",
    "print(\"x_test shape\", X_val.shape)\n",
    "print(\"y_train shape\", Y_train.shape)\n",
    "print(\"y_test shape\", Y_val.shape)"
   ]
  },
  {
   "cell_type": "markdown",
   "id": "343dbe6e",
   "metadata": {},
   "source": [
    "# CNN"
   ]
  },
  {
   "cell_type": "code",
   "execution_count": 248,
   "id": "1d2156dc",
   "metadata": {},
   "outputs": [],
   "source": [
    "from sklearn.metrics import confusion_matrix\n",
    "\n",
    "from keras.models import Sequential\n",
    "from keras.layers import Dense, Dropout, Flatten, Conv2D, MaxPool2D\n",
    "from keras.optimizers import RMSprop,Adam\n",
    "#from keras.preprocessing.image import ImageDataGenerator\n",
    "from keras.src.legacy.preprocessing.image import ImageDataGenerator\n",
    "from keras.callbacks import ReduceLROnPlateau"
   ]
  },
  {
   "cell_type": "code",
   "execution_count": 266,
   "id": "cc40c22e",
   "metadata": {},
   "outputs": [],
   "source": [
    "# optimizer, loss, etrics\n",
    "OPTIMIZER = Adam(\n",
    "    learning_rate = 0.001,\n",
    "    beta_1 = 0.9,\n",
    "    beta_2 = 0.999\n",
    "    )\n",
    "LOSS: str = 'categorical_crossentropy'\n",
    "METRICS: list[str] = ['accuracy']\n",
    "\n",
    "# epochs, batch size\n",
    "EPOCHS = 30\n",
    "BATCH_SIZE = 50"
   ]
  },
  {
   "cell_type": "code",
   "execution_count": 257,
   "id": "784c2378",
   "metadata": {},
   "outputs": [],
   "source": [
    "# CNN model layers\n",
    "model = Sequential()\n",
    "\n",
    "#\n",
    "model.add(Conv2D(\n",
    "    filters = 8,\n",
    "    kernel_size = (5,5),\n",
    "    padding = 'Same', \n",
    "    activation ='relu',\n",
    "    input_shape = (IMAGE_SIZE[0],IMAGE_SIZE[1],3)\n",
    "    ))\n",
    "model.add(MaxPool2D(\n",
    "    pool_size = (2,2)\n",
    "    ))\n",
    "model.add(Dropout(0.25))\n",
    "\n",
    "#\n",
    "model.add(Conv2D(\n",
    "    filters = 16,\n",
    "    kernel_size = (3,3),\n",
    "    padding = 'Same', \n",
    "    activation ='relu'))\n",
    "model.add(MaxPool2D(\n",
    "    pool_size = (2,2),\n",
    "    strides = (2,2)\n",
    "    ))\n",
    "model.add(Dropout(0.25))\n",
    "\n",
    "# fully connected\n",
    "model.add(Flatten())\n",
    "model.add(Dense(256, activation = \"relu\"))\n",
    "model.add(Dropout(0.5))\n",
    "model.add(Dense(NUM_CLASSES, activation = \"softmax\"))"
   ]
  },
  {
   "cell_type": "code",
   "execution_count": 258,
   "id": "0c121202",
   "metadata": {},
   "outputs": [],
   "source": [
    "# compile the model\n",
    "model.compile(\n",
    "    optimizer=OPTIMIZER,\n",
    "    loss=LOSS,\n",
    "    metrics=METRICS\n",
    "    )"
   ]
  },
  {
   "cell_type": "code",
   "execution_count": 259,
   "id": "9976c994",
   "metadata": {},
   "outputs": [],
   "source": [
    "# data augmentation\n",
    "datagen = ImageDataGenerator(\n",
    "        featurewise_center = False,  # set input mean to 0 over the dataset\n",
    "        samplewise_center = False,  # set each sample mean to 0\n",
    "        featurewise_std_normalization = False,  # divide inputs by std of the dataset\n",
    "        samplewise_std_normalization = False,  # divide each input by its std\n",
    "        zca_whitening = False,  # dimesion reduction\n",
    "        rotation_range = 20,  # randomly rotate images in the range 20 degrees\n",
    "        zoom_range = 0.2, # Randomly zoom image 20%\n",
    "        width_shift_range = 0.2,  # randomly shift images horizontally 20%\n",
    "        height_shift_range = 0.2,  # randomly shift images vertically 20%\n",
    "        horizontal_flip = False,  # randomly flip images\n",
    "        vertical_flip = False)  # randomly flip images\n",
    "\n",
    "datagen.fit(\n",
    "    X_train,\n",
    "    seed=SEED\n",
    "    )"
   ]
  },
  {
   "cell_type": "code",
   "execution_count": 267,
   "id": "cdcc0570",
   "metadata": {},
   "outputs": [
    {
     "name": "stdout",
     "output_type": "stream",
     "text": [
      "Epoch 1/30\n",
      "\u001b[1m60/60\u001b[0m \u001b[32m━━━━━━━━━━━━━━━━━━━━\u001b[0m\u001b[37m\u001b[0m \u001b[1m1s\u001b[0m 20ms/step - accuracy: 0.7917 - loss: 0.4881 - val_accuracy: 0.8358 - val_loss: 0.4128\n",
      "Epoch 2/30\n",
      "\u001b[1m60/60\u001b[0m \u001b[32m━━━━━━━━━━━━━━━━━━━━\u001b[0m\u001b[37m\u001b[0m \u001b[1m0s\u001b[0m 1ms/step - accuracy: 0.7000 - loss: 0.7006 - val_accuracy: 0.8448 - val_loss: 0.4168\n",
      "Epoch 3/30\n",
      "\u001b[1m60/60\u001b[0m \u001b[32m━━━━━━━━━━━━━━━━━━━━\u001b[0m\u001b[37m\u001b[0m \u001b[1m1s\u001b[0m 20ms/step - accuracy: 0.8135 - loss: 0.4557 - val_accuracy: 0.8328 - val_loss: 0.4215\n",
      "Epoch 4/30\n",
      "\u001b[1m60/60\u001b[0m \u001b[32m━━━━━━━━━━━━━━━━━━━━\u001b[0m\u001b[37m\u001b[0m \u001b[1m0s\u001b[0m 2ms/step - accuracy: 0.7800 - loss: 0.4883 - val_accuracy: 0.8030 - val_loss: 0.4875\n",
      "Epoch 5/30\n",
      "\u001b[1m60/60\u001b[0m \u001b[32m━━━━━━━━━━━━━━━━━━━━\u001b[0m\u001b[37m\u001b[0m \u001b[1m1s\u001b[0m 20ms/step - accuracy: 0.8081 - loss: 0.4763 - val_accuracy: 0.8328 - val_loss: 0.4905\n",
      "Epoch 6/30\n",
      "\u001b[1m60/60\u001b[0m \u001b[32m━━━━━━━━━━━━━━━━━━━━\u001b[0m\u001b[37m\u001b[0m \u001b[1m0s\u001b[0m 1ms/step - accuracy: 0.8000 - loss: 0.3671 - val_accuracy: 0.8179 - val_loss: 0.5060\n",
      "Epoch 7/30\n",
      "\u001b[1m60/60\u001b[0m \u001b[32m━━━━━━━━━━━━━━━━━━━━\u001b[0m\u001b[37m\u001b[0m \u001b[1m1s\u001b[0m 20ms/step - accuracy: 0.7878 - loss: 0.4714 - val_accuracy: 0.8269 - val_loss: 0.4240\n",
      "Epoch 8/30\n",
      "\u001b[1m60/60\u001b[0m \u001b[32m━━━━━━━━━━━━━━━━━━━━\u001b[0m\u001b[37m\u001b[0m \u001b[1m0s\u001b[0m 1ms/step - accuracy: 0.7400 - loss: 0.5358 - val_accuracy: 0.8299 - val_loss: 0.4227\n",
      "Epoch 9/30\n",
      "\u001b[1m60/60\u001b[0m \u001b[32m━━━━━━━━━━━━━━━━━━━━\u001b[0m\u001b[37m\u001b[0m \u001b[1m1s\u001b[0m 19ms/step - accuracy: 0.8069 - loss: 0.4338 - val_accuracy: 0.8388 - val_loss: 0.3836\n",
      "Epoch 10/30\n",
      "\u001b[1m60/60\u001b[0m \u001b[32m━━━━━━━━━━━━━━━━━━━━\u001b[0m\u001b[37m\u001b[0m \u001b[1m0s\u001b[0m 1ms/step - accuracy: 0.8000 - loss: 0.5598 - val_accuracy: 0.8418 - val_loss: 0.3941\n",
      "Epoch 11/30\n",
      "\u001b[1m60/60\u001b[0m \u001b[32m━━━━━━━━━━━━━━━━━━━━\u001b[0m\u001b[37m\u001b[0m \u001b[1m1s\u001b[0m 19ms/step - accuracy: 0.8054 - loss: 0.4586 - val_accuracy: 0.8418 - val_loss: 0.4002\n",
      "Epoch 12/30\n",
      "\u001b[1m60/60\u001b[0m \u001b[32m━━━━━━━━━━━━━━━━━━━━\u001b[0m\u001b[37m\u001b[0m \u001b[1m0s\u001b[0m 1ms/step - accuracy: 0.8600 - loss: 0.2640 - val_accuracy: 0.8418 - val_loss: 0.3942\n",
      "Epoch 13/30\n",
      "\u001b[1m60/60\u001b[0m \u001b[32m━━━━━━━━━━━━━━━━━━━━\u001b[0m\u001b[37m\u001b[0m \u001b[1m1s\u001b[0m 20ms/step - accuracy: 0.8071 - loss: 0.4347 - val_accuracy: 0.8507 - val_loss: 0.3838\n",
      "Epoch 14/30\n",
      "\u001b[1m60/60\u001b[0m \u001b[32m━━━━━━━━━━━━━━━━━━━━\u001b[0m\u001b[37m\u001b[0m \u001b[1m0s\u001b[0m 1ms/step - accuracy: 0.8000 - loss: 0.3850 - val_accuracy: 0.8418 - val_loss: 0.3981\n",
      "Epoch 15/30\n",
      "\u001b[1m60/60\u001b[0m \u001b[32m━━━━━━━━━━━━━━━━━━━━\u001b[0m\u001b[37m\u001b[0m \u001b[1m1s\u001b[0m 19ms/step - accuracy: 0.8125 - loss: 0.4151 - val_accuracy: 0.8507 - val_loss: 0.3759\n",
      "Epoch 16/30\n",
      "\u001b[1m60/60\u001b[0m \u001b[32m━━━━━━━━━━━━━━━━━━━━\u001b[0m\u001b[37m\u001b[0m \u001b[1m0s\u001b[0m 2ms/step - accuracy: 0.7800 - loss: 0.5228 - val_accuracy: 0.8179 - val_loss: 0.4383\n",
      "Epoch 17/30\n",
      "\u001b[1m60/60\u001b[0m \u001b[32m━━━━━━━━━━━━━━━━━━━━\u001b[0m\u001b[37m\u001b[0m \u001b[1m1s\u001b[0m 20ms/step - accuracy: 0.8177 - loss: 0.4264 - val_accuracy: 0.8478 - val_loss: 0.3743\n",
      "Epoch 18/30\n",
      "\u001b[1m60/60\u001b[0m \u001b[32m━━━━━━━━━━━━━━━━━━━━\u001b[0m\u001b[37m\u001b[0m \u001b[1m0s\u001b[0m 1ms/step - accuracy: 0.8600 - loss: 0.3659 - val_accuracy: 0.8388 - val_loss: 0.3874\n",
      "Epoch 19/30\n",
      "\u001b[1m60/60\u001b[0m \u001b[32m━━━━━━━━━━━━━━━━━━━━\u001b[0m\u001b[37m\u001b[0m \u001b[1m1s\u001b[0m 19ms/step - accuracy: 0.8170 - loss: 0.4209 - val_accuracy: 0.8418 - val_loss: 0.3697\n",
      "Epoch 20/30\n",
      "\u001b[1m60/60\u001b[0m \u001b[32m━━━━━━━━━━━━━━━━━━━━\u001b[0m\u001b[37m\u001b[0m \u001b[1m0s\u001b[0m 1ms/step - accuracy: 0.7600 - loss: 0.5294 - val_accuracy: 0.8388 - val_loss: 0.3890\n",
      "Epoch 21/30\n",
      "\u001b[1m60/60\u001b[0m \u001b[32m━━━━━━━━━━━━━━━━━━━━\u001b[0m\u001b[37m\u001b[0m \u001b[1m1s\u001b[0m 20ms/step - accuracy: 0.8052 - loss: 0.4321 - val_accuracy: 0.8478 - val_loss: 0.3808\n",
      "Epoch 22/30\n",
      "\u001b[1m60/60\u001b[0m \u001b[32m━━━━━━━━━━━━━━━━━━━━\u001b[0m\u001b[37m\u001b[0m \u001b[1m0s\u001b[0m 1ms/step - accuracy: 0.8000 - loss: 0.5125 - val_accuracy: 0.8478 - val_loss: 0.3839\n",
      "Epoch 23/30\n",
      "\u001b[1m60/60\u001b[0m \u001b[32m━━━━━━━━━━━━━━━━━━━━\u001b[0m\u001b[37m\u001b[0m \u001b[1m1s\u001b[0m 21ms/step - accuracy: 0.8168 - loss: 0.3936 - val_accuracy: 0.8358 - val_loss: 0.3891\n",
      "Epoch 24/30\n",
      "\u001b[1m60/60\u001b[0m \u001b[32m━━━━━━━━━━━━━━━━━━━━\u001b[0m\u001b[37m\u001b[0m \u001b[1m0s\u001b[0m 1ms/step - accuracy: 0.8000 - loss: 0.4149 - val_accuracy: 0.8328 - val_loss: 0.3958\n",
      "Epoch 25/30\n",
      "\u001b[1m60/60\u001b[0m \u001b[32m━━━━━━━━━━━━━━━━━━━━\u001b[0m\u001b[37m\u001b[0m \u001b[1m1s\u001b[0m 20ms/step - accuracy: 0.8130 - loss: 0.4114 - val_accuracy: 0.8567 - val_loss: 0.3616\n",
      "Epoch 26/30\n",
      "\u001b[1m60/60\u001b[0m \u001b[32m━━━━━━━━━━━━━━━━━━━━\u001b[0m\u001b[37m\u001b[0m \u001b[1m0s\u001b[0m 1ms/step - accuracy: 0.7600 - loss: 0.5423 - val_accuracy: 0.8567 - val_loss: 0.3574\n",
      "Epoch 27/30\n",
      "\u001b[1m60/60\u001b[0m \u001b[32m━━━━━━━━━━━━━━━━━━━━\u001b[0m\u001b[37m\u001b[0m \u001b[1m1s\u001b[0m 19ms/step - accuracy: 0.8169 - loss: 0.4139 - val_accuracy: 0.8597 - val_loss: 0.3238\n",
      "Epoch 28/30\n",
      "\u001b[1m60/60\u001b[0m \u001b[32m━━━━━━━━━━━━━━━━━━━━\u001b[0m\u001b[37m\u001b[0m \u001b[1m0s\u001b[0m 1ms/step - accuracy: 0.8600 - loss: 0.3392 - val_accuracy: 0.8537 - val_loss: 0.3228\n",
      "Epoch 29/30\n",
      "\u001b[1m60/60\u001b[0m \u001b[32m━━━━━━━━━━━━━━━━━━━━\u001b[0m\u001b[37m\u001b[0m \u001b[1m1s\u001b[0m 20ms/step - accuracy: 0.8331 - loss: 0.3871 - val_accuracy: 0.8627 - val_loss: 0.3240\n",
      "Epoch 30/30\n",
      "\u001b[1m60/60\u001b[0m \u001b[32m━━━━━━━━━━━━━━━━━━━━\u001b[0m\u001b[37m\u001b[0m \u001b[1m0s\u001b[0m 1ms/step - accuracy: 0.8000 - loss: 0.3861 - val_accuracy: 0.8627 - val_loss: 0.3264\n"
     ]
    }
   ],
   "source": [
    "# fit the model\n",
    "history = model.fit(\n",
    "    datagen.flow(\n",
    "        X_train, Y_train,\n",
    "        batch_size = BATCH_SIZE\n",
    "    ),\n",
    "    epochs = EPOCHS,\n",
    "    validation_data = (X_val, Y_val),\n",
    "    steps_per_epoch = X_train.shape[0] // BATCH_SIZE\n",
    "    )"
   ]
  },
  {
   "cell_type": "code",
   "execution_count": 268,
   "id": "4ccfc2d1",
   "metadata": {},
   "outputs": [
    {
     "data": {
      "image/png": "[encoded data removed]",
      "text/plain": [
       "<Figure size 640x480 with 1 Axes>"
      ]
     },
     "metadata": {},
     "output_type": "display_data"
    }
   ],
   "source": [
    "# Plot the loss and accuracy curves for training and validation \n",
    "plt.plot(\n",
    "    history.history['val_loss'],\n",
    "    color='b',\n",
    "    label=\"validation loss\"\n",
    "    )\n",
    "\n",
    "# set plot title and axis labels\n",
    "plt.title(\"Test Loss\")\n",
    "plt.xlabel(\"Number of Epochs\")\n",
    "plt.ylabel(\"Loss\")\n",
    "plt.legend()\n",
    "\n",
    "# show plot\n",
    "plt.show()"
   ]
  },
  {
   "cell_type": "code",
   "execution_count": 269,
   "id": "ea762faa",
   "metadata": {},
   "outputs": [
    {
     "name": "stdout",
     "output_type": "stream",
     "text": [
      "\u001b[1m11/11\u001b[0m \u001b[32m━━━━━━━━━━━━━━━━━━━━\u001b[0m\u001b[37m\u001b[0m \u001b[1m0s\u001b[0m 4ms/step \n"
     ]
    },
    {
     "data": {
      "image/png": "[encoded data removed]",
      "text/plain": [
       "<Figure size 800x800 with 2 Axes>"
      ]
     },
     "metadata": {},
     "output_type": "display_data"
    }
   ],
   "source": [
    "# confusion matrix\n",
    "\n",
    "# Predict the values from the validation dataset\n",
    "Y_pred = model.predict(X_val)\n",
    "\n",
    "# Convert predictions classes to one hot vectors \n",
    "Y_pred_classes = np.argmax(Y_pred,axis = 1) \n",
    "\n",
    "# Convert validation observations to one hot vectors\n",
    "Y_true = np.argmax(Y_val,axis = 1) \n",
    "\n",
    "# compute the confusion matrix\n",
    "confusion_mtx = confusion_matrix(Y_true, Y_pred_classes) \n",
    "\n",
    "# plot the confusion matrix\n",
    "f: matplotlib.figure.Figure; ax: plt.Axes\n",
    "f, ax = plt.subplots(figsize=(8, 8))\n",
    "\n",
    "# generate confusion matrix as heatmap\n",
    "sns.heatmap(\n",
    "    confusion_mtx,\n",
    "    annot=True,\n",
    "    linewidths=0.01,\n",
    "    cmap=\"Greens\",\n",
    "    linecolor=\"gray\",\n",
    "    fmt='.1f',\n",
    "    ax=ax)\n",
    "\n",
    "# set title and axis labels of confusion matrix\n",
    "plt.title(\"Confusion Matrix\")\n",
    "plt.xlabel(\"Predicted Label\")\n",
    "plt.ylabel(\"True Label\")\n",
    "\n",
    "# show confusion matrix\n",
    "plt.show()"
   ]
  }
 ],
 "metadata": {
  "kernelspec": {
   "display_name": "corn-leaf-disease-classifier-davY0eoL-py3.12",
   "language": "python",
   "name": "python3"
  },
  "language_info": {
   "codemirror_mode": {
    "name": "ipython",
    "version": 3
   },
   "file_extension": ".py",
   "mimetype": "text/x-python",
   "name": "python",
   "nbconvert_exporter": "python",
   "pygments_lexer": "ipython3",
   "version": "3.12.10"
  }
 },
 "nbformat": 4,
 "nbformat_minor": 5
}
